{
 "cells": [
  {
   "cell_type": "code",
   "execution_count": null,
   "id": "9aa2bd67",
   "metadata": {
    "scrolled": true
   },
   "outputs": [],
   "source": [
    "# sns.set_palette('colorblind')\n",
    "# sns.pairplot(data=data, height=3)"
   ]
  },
  {
   "cell_type": "code",
   "execution_count": null,
   "id": "22d6b432",
   "metadata": {},
   "outputs": [],
   "source": [
    "#import libraries\n",
    "import matplotlib.pyplot as plt\n",
    "import seaborn as sns\n",
    "\n",
    "import pandas as pd\n",
    "import numpy as np\n",
    "\n",
    "from sklearn.linear_model import LogisticRegression\n",
    "from sklearn.metrics import classification_report, confusion_matrix\n",
    "\n",
    "# Styling used for VSCode\n",
    "from matplotlib import style\n",
    "style.use('dark_background')\n",
    "\n",
    "# from sklearn.externals import joblib\n"
   ]
  },
  {
   "cell_type": "code",
   "execution_count": null,
   "id": "ee775e31",
   "metadata": {},
   "outputs": [],
   "source": [
    "data = pd.read_csv('diabetes_binary_health_indicators_BRFSS2015.csv')\n",
    "data.shape"
   ]
  },
  {
   "cell_type": "code",
   "execution_count": null,
   "id": "f6dded94",
   "metadata": {
    "scrolled": true
   },
   "outputs": [],
   "source": [
    "#check for completeness of data\n",
    "data.info()"
   ]
  },
  {
   "cell_type": "code",
   "execution_count": null,
   "id": "d7f2ad1e",
   "metadata": {},
   "outputs": [],
   "source": [
    "#correlation of every pair of features\n",
    "#brighter colors indicate more correlation\n",
    "corr = data.corr()\n",
    "print(corr)\n",
    "sns.heatmap(corr, \n",
    "         xticklabels=corr.columns, \n",
    "         yticklabels=corr.columns)"
   ]
  },
  {
   "cell_type": "markdown",
   "id": "934fd190",
   "metadata": {},
   "source": [
    "Initial Data Visualization Interpretations from Heatmap\n",
    "\n",
    "1. HighBP, HighChol, BMI, HeartDiseaseorAttack, GenHlth, and Age all have significant correlation with the outcome variable."
   ]
  },
  {
   "cell_type": "code",
   "execution_count": null,
   "id": "3f1908c6",
   "metadata": {},
   "outputs": [],
   "source": [
    "#Splitting Features and Label\n",
    "y = data.iloc[:,0]\n",
    "X = data.iloc[:,1:-1]\n",
    "X.head()"
   ]
  },
  {
   "cell_type": "code",
   "execution_count": null,
   "id": "e5f57e60",
   "metadata": {},
   "outputs": [],
   "source": [
    "\n",
    "\n",
    "#split train and test data\n",
    "from sklearn.model_selection import train_test_split\n",
    "X_train, X_test, y_train, y_test = train_test_split(X, y, test_size = 0.05, random_state = 42)\n",
    "\n",
    "\n"
   ]
  },
  {
   "cell_type": "code",
   "execution_count": null,
   "id": "7cb0efe4",
   "metadata": {
    "scrolled": true
   },
   "outputs": [],
   "source": [
    "%%time\n",
    "#training and fitting Logistic Regression to model\n",
    "model = LogisticRegression(solver='liblinear', random_state=0)\n",
    "model.fit(X_train,y_train)\n",
    "\n",
    "#evaluating model\n",
    "accuracy = model.score(X_test, y_test)\n",
    "print(\"accuracy = \", accuracy * 100, \"%\")\n"
   ]
  },
  {
   "cell_type": "code",
   "execution_count": null,
   "id": "74f445c3",
   "metadata": {
    "scrolled": true
   },
   "outputs": [],
   "source": [
    "print(model.intercept_)\n",
    "print(model.coef_)"
   ]
  },
  {
   "cell_type": "code",
   "execution_count": null,
   "id": "129ced5f",
   "metadata": {},
   "outputs": [],
   "source": [
    "coeff = list(model.coef_[0])\n",
    "labels = list(X_train.columns)\n",
    "features = pd.DataFrame()\n",
    "features['Features'] = labels\n",
    "features['importance'] = coeff\n",
    "features.sort_values(by=['importance'], ascending=True, inplace=True)\n",
    "features['positive'] = features['importance'] > 0\n",
    "features.set_index('Features', inplace=True)\n",
    "features.importance.plot(kind='barh', figsize=(11, 6),color = features.positive.map({True: 'blue', False: 'red'}))\n",
    "plt.xlabel('Importance')"
   ]
  },
  {
   "cell_type": "markdown",
   "id": "744179fb",
   "metadata": {},
   "source": [
    "Interpretations on the Visualization of the Weights :\n",
    "\n",
    "1. CholCheck, HighBP, GenHlth, and HighChol have significant influence on the model.\n",
    "2. HvyAlcoholConsumption has negative influence to the model, meaning that a higher HvyAlcoholConsumption correlates to a person not having diabetes\n",
    "3. Initial data interpretations, like BMI and Age show that they have a high correlation to the outcome variable, but the model relies more on CholCheck, HighBP, GenHlth, and HighChol instead. (? - data needs to be normalized for this to be an accurate statement) "
   ]
  },
  {
   "cell_type": "code",
   "execution_count": null,
   "id": "d61e7bc8",
   "metadata": {
    "scrolled": false
   },
   "outputs": [],
   "source": [
    "#making predictions\n",
    "predictionProbability = model.predict_proba(X_test)\n",
    "prediction = model.predict(X_test)\n",
    "#shows probability of being zlass '0' and class '1'\n",
    "print('Probability:', predictionProbability)\n",
    "print('prediction:', prediction)\n"
   ]
  },
  {
   "cell_type": "code",
   "execution_count": null,
   "id": "44217942",
   "metadata": {
    "scrolled": true
   },
   "outputs": [],
   "source": [
    "#confusion matrix\n",
    "from sklearn.metrics import confusion_matrix\n",
    "confusion_matrix = confusion_matrix(y_test, prediction)\n",
    "print(confusion_matrix)"
   ]
  },
  {
   "cell_type": "markdown",
   "id": "78043927",
   "metadata": {},
   "source": [
    "Confusion Matrix Interpretations\n",
    "\n",
    "- True positive is 10653.\n",
    "- True negative is 284.\n",
    "- False positive is 213.\n",
    "- False negative is 1524."
   ]
  },
  {
   "cell_type": "code",
   "execution_count": null,
   "id": "9ea117ab",
   "metadata": {},
   "outputs": [],
   "source": [
    "from sklearn.metrics import classification_report\n",
    "print(classification_report(y_test, prediction))"
   ]
  },
  {
   "cell_type": "code",
   "execution_count": null,
   "id": "6ed8f73c",
   "metadata": {
    "scrolled": true
   },
   "outputs": [],
   "source": [
    "#ROC Curve\n",
    "from sklearn.metrics import roc_auc_score\n",
    "from sklearn.metrics import roc_curve\n",
    "logit_roc_auc = roc_auc_score(y_test, model.predict(X_test))\n",
    "fpr, tpr, thresholds = roc_curve(y_test, model.predict_proba(X_test)[:,1])\n",
    "plt.figure()\n",
    "plt.plot(fpr, tpr, label='Logistic Regression (area = %0.2f)' % logit_roc_auc)\n",
    "plt.plot([0, 1], [0, 1],'r--')\n",
    "plt.xlim([0.0, 1.0])\n",
    "plt.ylim([0.0, 1.05])\n",
    "plt.xlabel('False Positive Rate')\n",
    "plt.ylabel('True Positive Rate')\n",
    "plt.title('Receiver operating characteristic')\n",
    "plt.legend(loc=\"lower right\")\n",
    "plt.savefig('Log_ROC')\n",
    "plt.show()"
   ]
  },
  {
   "cell_type": "code",
   "execution_count": null,
   "id": "0ac0a81e",
   "metadata": {},
   "outputs": [],
   "source": [
    "# decision surface for logistic regression on a binary classification dataset\n",
    "import numpy as np\n",
    "from sklearn.datasets import make_blobs\n",
    "from sklearn.linear_model import LogisticRegression\n",
    "from matplotlib.colors import ListedColormap\n",
    "from sklearn.decomposition import PCA\n",
    "\n",
    "# Create color maps\n",
    "cmap_light = ListedColormap(['#FFAAAA', '#AAFFAA'])\n",
    "cmap_bold = ListedColormap(['#FF0000', '#006400'])\n",
    "\n",
    "# generate dataset\n",
    "pca = PCA(n_components=2)\n",
    "pca.fit(X_train)\n",
    "PCAX = pca.transform(X_train)\n",
    "\n",
    "# # define bounds of the domain\n",
    "model = LogisticRegression(solver='liblinear', random_state=0)\n",
    "model.fit(PCAX,y_train)\n",
    "\n",
    "x_min, x_max = PCAX[:, 0].min() - .1, PCAX[:, 0].max() + .1\n",
    "y_min, y_max = PCAX[:, 1].min() - .1, PCAX[:, 1].max() + .1\n",
    "xx, yy = np.meshgrid(np.linspace(x_min, x_max, 100),\n",
    "                        np.linspace(y_min, y_max, 100))\n",
    "Z = model.predict(np.c_[xx.ravel(), yy.ravel()])\n",
    "\n",
    "Z = Z.reshape(xx.shape)\n",
    "plt.figure()\n",
    "plt.pcolormesh(xx, yy, Z, cmap=cmap_light)\n",
    "\n",
    "# Plot also the training points\n",
    "pca = PCA(n_components=2)\n",
    "pca.fit(X_test)\n",
    "PCAX = pca.transform(X_test)\n",
    "plt.scatter(PCAX[:, 0], PCAX[:, 1], c=y_test, cmap=cmap_bold, s=1)\n",
    "plt.xlabel('PCA Component 1')\n",
    "plt.ylabel('PCA Component 2')\n",
    "plt.title('Logistic Regression')\n",
    "plt.colorbar()\n",
    "plt.axis('tight')\n",
    "\n"
   ]
  },
  {
   "cell_type": "code",
   "execution_count": null,
   "id": "82064081",
   "metadata": {
    "scrolled": true
   },
   "outputs": [],
   "source": [
    "'''\n",
    "# Another way to apply Logistic Regression model to data \n",
    "import statsmodels.api as sm\n",
    "from statsmodels.formula.api import logit\n",
    "\n",
    "logit_model=sm.Logit(y,X)\n",
    "result=logit_model.fit()\n",
    "print(result.summary2())\n",
    "\n",
    "# Using Anova to check for significance\n",
    "model1 = logit('Diabetes_binary ~ C(HighBP) + C(HighChol) + C(CholCheck) + C(BMI) + C(Smoker) + C(Stroke) + C(HeartDiseaseorAttack) + C(PhysActivity) + C(Fruits) + C(Veggies) + C(HvyAlcoholConsump) + C(AnyHealthcare) + C(NoDocbcCost) + C(GenHlth) + C(MentHlth) + C(PhysHlth) + C(DiffWalk) + C(Sex) + C(Age) + C(Education) + C(Income)', data=data).fit()\n",
    "\n",
    "print(model1.params)\n",
    "anova_table = sm.stats.anova_lm(model1, typ=2)\n",
    "anova_table\n",
    "'''"
   ]
  }
 ],
 "metadata": {
  "kernelspec": {
   "display_name": "Python 3 (ipykernel)",
   "language": "python",
   "name": "python3"
  },
  "language_info": {
   "codemirror_mode": {
    "name": "ipython",
    "version": 3
   },
   "file_extension": ".py",
   "mimetype": "text/x-python",
   "name": "python",
   "nbconvert_exporter": "python",
   "pygments_lexer": "ipython3",
   "version": "3.9.5"
  }
 },
 "nbformat": 4,
 "nbformat_minor": 5
}
