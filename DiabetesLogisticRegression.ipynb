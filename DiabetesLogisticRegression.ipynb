{
 "cells": [
  {
   "cell_type": "code",
   "execution_count": 61,
   "id": "9aa2bd67",
   "metadata": {
    "scrolled": true
   },
   "outputs": [],
   "source": [
    "# sns.set_palette('colorblind')\n",
    "# sns.pairplot(data=data, height=3)"
   ]
  },
  {
   "cell_type": "code",
   "execution_count": 62,
   "id": "22d6b432",
   "metadata": {},
   "outputs": [],
   "source": [
    "#import libraries\n",
    "import matplotlib.pyplot as plt\n",
    "import seaborn as sns\n",
    "\n",
    "import pandas as pd\n",
    "import numpy as np\n",
    "\n",
    "from sklearn.linear_model import LogisticRegression\n",
    "from sklearn.metrics import classification_report, confusion_matrix\n",
    "\n",
    "# from sklearn.externals import joblib\n"
   ]
  },
  {
   "cell_type": "code",
   "execution_count": 63,
   "id": "ee775e31",
   "metadata": {},
   "outputs": [
    {
     "data": {
      "text/plain": [
       "(70692, 22)"
      ]
     },
     "execution_count": 63,
     "metadata": {},
     "output_type": "execute_result"
    }
   ],
   "source": [
    "data = pd.read_csv('diabetes_binary_5050split_health_indicators_BRFSS2015.csv')\n",
    "data.shape"
   ]
  },
  {
   "cell_type": "code",
   "execution_count": 64,
   "id": "f6dded94",
   "metadata": {
    "scrolled": true
   },
   "outputs": [
    {
     "name": "stdout",
     "output_type": "stream",
     "text": [
      "<class 'pandas.core.frame.DataFrame'>\n",
      "RangeIndex: 70692 entries, 0 to 70691\n",
      "Data columns (total 22 columns):\n",
      " #   Column                Non-Null Count  Dtype  \n",
      "---  ------                --------------  -----  \n",
      " 0   Diabetes_binary       70692 non-null  float64\n",
      " 1   HighBP                70692 non-null  float64\n",
      " 2   HighChol              70692 non-null  float64\n",
      " 3   CholCheck             70692 non-null  float64\n",
      " 4   BMI                   70692 non-null  float64\n",
      " 5   Smoker                70692 non-null  float64\n",
      " 6   Stroke                70692 non-null  float64\n",
      " 7   HeartDiseaseorAttack  70692 non-null  float64\n",
      " 8   PhysActivity          70692 non-null  float64\n",
      " 9   Fruits                70692 non-null  float64\n",
      " 10  Veggies               70692 non-null  float64\n",
      " 11  HvyAlcoholConsump     70692 non-null  float64\n",
      " 12  AnyHealthcare         70692 non-null  float64\n",
      " 13  NoDocbcCost           70692 non-null  float64\n",
      " 14  GenHlth               70692 non-null  float64\n",
      " 15  MentHlth              70692 non-null  float64\n",
      " 16  PhysHlth              70692 non-null  float64\n",
      " 17  DiffWalk              70692 non-null  float64\n",
      " 18  Sex                   70692 non-null  float64\n",
      " 19  Age                   70692 non-null  float64\n",
      " 20  Education             70692 non-null  float64\n",
      " 21  Income                70692 non-null  float64\n",
      "dtypes: float64(22)\n",
      "memory usage: 11.9 MB\n"
     ]
    }
   ],
   "source": [
    "#check for completeness of data\n",
    "data.info()"
   ]
  },
  {
   "cell_type": "code",
   "execution_count": 65,
   "id": "d7f2ad1e",
   "metadata": {},
   "outputs": [
    {
     "name": "stdout",
     "output_type": "stream",
     "text": [
      "                      Diabetes_binary    HighBP  HighChol  CholCheck  \\\n",
      "Diabetes_binary              1.000000  0.381516  0.289213   0.115382   \n",
      "HighBP                       0.381516  1.000000  0.316515   0.103283   \n",
      "HighChol                     0.289213  0.316515  1.000000   0.085981   \n",
      "CholCheck                    0.115382  0.103283  0.085981   1.000000   \n",
      "BMI                          0.293373  0.241019  0.131309   0.045648   \n",
      "Smoker                       0.085999  0.087438  0.093398  -0.004331   \n",
      "Stroke                       0.125427  0.129060  0.099786   0.022529   \n",
      "HeartDiseaseorAttack         0.211523  0.210750  0.181187   0.043497   \n",
      "PhysActivity                -0.158666 -0.136102 -0.090453  -0.008249   \n",
      "Fruits                      -0.054077 -0.040852 -0.047384   0.017384   \n",
      "Veggies                     -0.079293 -0.066624 -0.042836   0.000349   \n",
      "HvyAlcoholConsump           -0.094853 -0.027030 -0.025443  -0.027146   \n",
      "AnyHealthcare                0.023191  0.035764  0.031532   0.106800   \n",
      "NoDocbcCost                  0.040977  0.026517  0.033199  -0.062669   \n",
      "GenHlth                      0.407612  0.320540  0.237778   0.059213   \n",
      "MentHlth                     0.087029  0.064294  0.083881  -0.010660   \n",
      "PhysHlth                     0.213081  0.173922  0.142610   0.034540   \n",
      "DiffWalk                     0.272646  0.234784  0.162043   0.044430   \n",
      "Sex                          0.044413  0.040819  0.017324  -0.007991   \n",
      "Age                          0.278738  0.338132  0.240338   0.101743   \n",
      "Education                   -0.170481 -0.141643 -0.084386  -0.008695   \n",
      "Income                      -0.224449 -0.187657 -0.107777   0.007550   \n",
      "\n",
      "                           BMI    Smoker    Stroke  HeartDiseaseorAttack  \\\n",
      "Diabetes_binary       0.293373  0.085999  0.125427              0.211523   \n",
      "HighBP                0.241019  0.087438  0.129060              0.210750   \n",
      "HighChol              0.131309  0.093398  0.099786              0.181187   \n",
      "CholCheck             0.045648 -0.004331  0.022529              0.043497   \n",
      "BMI                   1.000000  0.011551  0.022931              0.060355   \n",
      "Smoker                0.011551  1.000000  0.064658              0.124418   \n",
      "Stroke                0.022931  0.064658  1.000000              0.223394   \n",
      "HeartDiseaseorAttack  0.060355  0.124418  0.223394              1.000000   \n",
      "PhysActivity         -0.170936 -0.079823 -0.079985             -0.098223   \n",
      "Fruits               -0.084505 -0.074811 -0.008996             -0.019436   \n",
      "Veggies              -0.056528 -0.029926 -0.047601             -0.036315   \n",
      "HvyAlcoholConsump    -0.058232  0.077835 -0.023395             -0.037130   \n",
      "AnyHealthcare        -0.013417 -0.012939  0.006484              0.015687   \n",
      "NoDocbcCost           0.065832  0.035799  0.036198              0.036029   \n",
      "GenHlth               0.267888  0.152416  0.189447              0.275868   \n",
      "MentHlth              0.104682  0.091257  0.087303              0.075057   \n",
      "PhysHlth              0.161862  0.120698  0.164488              0.198416   \n",
      "DiffWalk              0.246094  0.119789  0.192266              0.232611   \n",
      "Sex                   0.000827  0.112125  0.003822              0.098161   \n",
      "Age                  -0.038648  0.105424  0.123879              0.221878   \n",
      "Education            -0.100233 -0.140966 -0.073926             -0.096559   \n",
      "Income               -0.124878 -0.104725 -0.136577             -0.146748   \n",
      "\n",
      "                      PhysActivity    Fruits  ...  AnyHealthcare  NoDocbcCost  \\\n",
      "Diabetes_binary          -0.158666 -0.054077  ...       0.023191     0.040977   \n",
      "HighBP                   -0.136102 -0.040852  ...       0.035764     0.026517   \n",
      "HighChol                 -0.090453 -0.047384  ...       0.031532     0.033199   \n",
      "CholCheck                -0.008249  0.017384  ...       0.106800    -0.062669   \n",
      "BMI                      -0.170936 -0.084505  ...      -0.013417     0.065832   \n",
      "Smoker                   -0.079823 -0.074811  ...      -0.012939     0.035799   \n",
      "Stroke                   -0.079985 -0.008996  ...       0.006484     0.036198   \n",
      "HeartDiseaseorAttack     -0.098223 -0.019436  ...       0.015687     0.036029   \n",
      "PhysActivity              1.000000  0.133813  ...       0.027089    -0.063302   \n",
      "Fruits                    0.133813  1.000000  ...       0.029385    -0.045843   \n",
      "Veggies                   0.149322  0.238605  ...       0.029152    -0.037146   \n",
      "HvyAlcoholConsump         0.019111 -0.033246  ...      -0.013484     0.009683   \n",
      "AnyHealthcare             0.027089  0.029385  ...       1.000000    -0.221658   \n",
      "NoDocbcCost              -0.063302 -0.045843  ...      -0.221658     1.000000   \n",
      "GenHlth                  -0.273548 -0.098687  ...      -0.033060     0.169515   \n",
      "MentHlth                 -0.130090 -0.062102  ...      -0.049850     0.193877   \n",
      "PhysHlth                 -0.234500 -0.048572  ...      -0.003285     0.157451   \n",
      "DiffWalk                 -0.276868 -0.050784  ...       0.008113     0.127111   \n",
      "Sex                       0.051753 -0.088723  ...      -0.006562    -0.048187   \n",
      "Age                      -0.100753  0.061096  ...       0.136975    -0.129839   \n",
      "Education                 0.190271  0.098715  ...       0.106601    -0.096989   \n",
      "Income                    0.196551  0.079009  ...       0.130492    -0.198171   \n",
      "\n",
      "                       GenHlth  MentHlth  PhysHlth  DiffWalk       Sex  \\\n",
      "Diabetes_binary       0.407612  0.087029  0.213081  0.272646  0.044413   \n",
      "HighBP                0.320540  0.064294  0.173922  0.234784  0.040819   \n",
      "HighChol              0.237778  0.083881  0.142610  0.162043  0.017324   \n",
      "CholCheck             0.059213 -0.010660  0.034540  0.044430 -0.007991   \n",
      "BMI                   0.267888  0.104682  0.161862  0.246094  0.000827   \n",
      "Smoker                0.152416  0.091257  0.120698  0.119789  0.112125   \n",
      "Stroke                0.189447  0.087303  0.164488  0.192266  0.003822   \n",
      "HeartDiseaseorAttack  0.275868  0.075057  0.198416  0.232611  0.098161   \n",
      "PhysActivity         -0.273548 -0.130090 -0.234500 -0.276868  0.051753   \n",
      "Fruits               -0.098687 -0.062102 -0.048572 -0.050784 -0.088723   \n",
      "Veggies              -0.115795 -0.052359 -0.066896 -0.084072 -0.052604   \n",
      "HvyAlcoholConsump    -0.058796  0.015626 -0.036257 -0.049294  0.014164   \n",
      "AnyHealthcare        -0.033060 -0.049850 -0.003285  0.008113 -0.006562   \n",
      "NoDocbcCost           0.169515  0.193877  0.157451  0.127111 -0.048187   \n",
      "GenHlth               1.000000  0.315077  0.552757  0.476639 -0.014555   \n",
      "MentHlth              0.315077  1.000000  0.380272  0.251489 -0.089204   \n",
      "PhysHlth              0.552757  0.380272  1.000000  0.487976 -0.045957   \n",
      "DiffWalk              0.476639  0.251489  0.487976  1.000000 -0.082248   \n",
      "Sex                  -0.014555 -0.089204 -0.045957 -0.082248  1.000000   \n",
      "Age                   0.155624 -0.101746  0.084852  0.195265 -0.002315   \n",
      "Education            -0.285420 -0.107005 -0.159317 -0.202590  0.043564   \n",
      "Income               -0.382969 -0.219070 -0.279326 -0.343245  0.159654   \n",
      "\n",
      "                           Age  Education    Income  \n",
      "Diabetes_binary       0.278738  -0.170481 -0.224449  \n",
      "HighBP                0.338132  -0.141643 -0.187657  \n",
      "HighChol              0.240338  -0.084386 -0.107777  \n",
      "CholCheck             0.101743  -0.008695  0.007550  \n",
      "BMI                  -0.038648  -0.100233 -0.124878  \n",
      "Smoker                0.105424  -0.140966 -0.104725  \n",
      "Stroke                0.123879  -0.073926 -0.136577  \n",
      "HeartDiseaseorAttack  0.221878  -0.096559 -0.146748  \n",
      "PhysActivity         -0.100753   0.190271  0.196551  \n",
      "Fruits                0.061096   0.098715  0.079009  \n",
      "Veggies              -0.018893   0.152512  0.154899  \n",
      "HvyAlcoholConsump    -0.057705   0.036279  0.064095  \n",
      "AnyHealthcare         0.136975   0.106601  0.130492  \n",
      "NoDocbcCost          -0.129839  -0.096989 -0.198171  \n",
      "GenHlth               0.155624  -0.285420 -0.382969  \n",
      "MentHlth             -0.101746  -0.107005 -0.219070  \n",
      "PhysHlth              0.084852  -0.159317 -0.279326  \n",
      "DiffWalk              0.195265  -0.202590 -0.343245  \n",
      "Sex                  -0.002315   0.043564  0.159654  \n",
      "Age                   1.000000  -0.107127 -0.130140  \n",
      "Education            -0.107127   1.000000  0.460565  \n",
      "Income               -0.130140   0.460565  1.000000  \n",
      "\n",
      "[22 rows x 22 columns]\n"
     ]
    },
    {
     "data": {
      "text/plain": [
       "<AxesSubplot:>"
      ]
     },
     "execution_count": 65,
     "metadata": {},
     "output_type": "execute_result"
    },
    {
     "data": {
      "image/png": "[encoded data removed]",
      "text/plain": [
       "<Figure size 432x288 with 2 Axes>"
      ]
     },
     "metadata": {
      "needs_background": "light"
     },
     "output_type": "display_data"
    }
   ],
   "source": [
    "#correlation of every pair of features\n",
    "#brighter colors indicate more correlation\n",
    "corr = data.corr()\n",
    "print(corr)\n",
    "sns.heatmap(corr, \n",
    "         xticklabels=corr.columns, \n",
    "         yticklabels=corr.columns)"
   ]
  },
  {
   "cell_type": "markdown",
   "id": "934fd190",
   "metadata": {},
   "source": [
    "Initial Data Visualization Interpretations from Heatmap\n",
    "\n",
    "1. HighBP, HighChol, BMI, HeartDiseaseorAttack, GenHlth, and Age all have significant correlation with the outcome variable."
   ]
  },
  {
   "cell_type": "code",
   "execution_count": 66,
   "id": "3f1908c6",
   "metadata": {},
   "outputs": [],
   "source": [
    "#Splitting Features and Label\n",
    "y = data.iloc[:,0]\n",
    "X = data.iloc[:,1:-1]"
   ]
  },
  {
   "cell_type": "code",
   "execution_count": 67,
   "id": "e5f57e60",
   "metadata": {},
   "outputs": [],
   "source": [
    "#scale data? binary data so we don't need to scale i think\n",
    "\n",
    "#split train and test data\n",
    "from sklearn.model_selection import train_test_split\n",
    "X_train, X_test, y_train, y_test = train_test_split(X, y, test_size = 0.30, random_state = 99)\n",
    "\n"
   ]
  },
  {
   "cell_type": "code",
   "execution_count": 68,
   "id": "7cb0efe4",
   "metadata": {
    "scrolled": true
   },
   "outputs": [
    {
     "name": "stdout",
     "output_type": "stream",
     "text": [
      "accuracy =  74.63221425877028 %\n"
     ]
    }
   ],
   "source": [
    "#training and fitting Logistic Regression to model\n",
    "model = LogisticRegression(solver='liblinear', random_state=0)\n",
    "model.fit(X_train,y_train)\n",
    "\n",
    "#evaluating model\n",
    "accuracy = model.score(X_test, y_test)\n",
    "print(\"accuracy = \", accuracy * 100, \"%\")\n"
   ]
  },
  {
   "cell_type": "code",
   "execution_count": 69,
   "id": "74f445c3",
   "metadata": {
    "scrolled": true
   },
   "outputs": [
    {
     "name": "stdout",
     "output_type": "stream",
     "text": [
      "[-6.75341331]\n",
      "[[ 7.44800746e-01  5.93528487e-01  1.25259565e+00  7.42095322e-02\n",
      "   4.23876891e-04  1.74737219e-01  2.61034680e-01 -6.83453106e-02\n",
      "  -4.97327984e-02 -8.23907600e-02 -7.84214223e-01 -1.91228793e-02\n",
      "   5.18225010e-02  5.98002926e-01 -3.82029000e-03 -8.52559548e-03\n",
      "   1.29045268e-01  2.01832398e-01  1.53619682e-01 -8.03380252e-02]]\n"
     ]
    }
   ],
   "source": [
    "print(model.intercept_)\n",
    "print(model.coef_)"
   ]
  },
  {
   "cell_type": "code",
   "execution_count": 70,
   "id": "129ced5f",
   "metadata": {},
   "outputs": [
    {
     "data": {
      "text/plain": [
       "Text(0.5, 0, 'Importance')"
      ]
     },
     "execution_count": 70,
     "metadata": {},
     "output_type": "execute_result"
    },
    {
     "data": {
      "image/png": "[encoded data removed]",
      "text/plain": [
       "<Figure size 792x432 with 1 Axes>"
      ]
     },
     "metadata": {
      "needs_background": "light"
     },
     "output_type": "display_data"
    }
   ],
   "source": [
    "coeff = list(model.coef_[0])\n",
    "labels = list(X_train.columns)\n",
    "features = pd.DataFrame()\n",
    "features['Features'] = labels\n",
    "features['importance'] = coeff\n",
    "features.sort_values(by=['importance'], ascending=True, inplace=True)\n",
    "features['positive'] = features['importance'] > 0\n",
    "features.set_index('Features', inplace=True)\n",
    "features.importance.plot(kind='barh', figsize=(11, 6),color = features.positive.map({True: 'blue', False: 'red'}))\n",
    "plt.xlabel('Importance')"
   ]
  },
  {
   "cell_type": "markdown",
   "id": "744179fb",
   "metadata": {},
   "source": [
    "Interpretations on the Visualization of the Weights :\n",
    "\n",
    "1. CholCheck, HighBP, GenHlth, and HighChol have significant influence on the model.\n",
    "2. HvyAlcoholConsumption has negative influence to the model, meaning that a higher HvyAlcoholConsumption correlates to a person not having diabetes\n",
    "3. Initial data interpretations, like BMI and Age show that they have a high correlation to the outcome variable, but the model relies more on CholCheck, HighBP, GenHlth, and HighChol instead. (? - data needs to be normalized for this to be an accurate statement) "
   ]
  },
  {
   "cell_type": "code",
   "execution_count": 72,
   "id": "d61e7bc8",
   "metadata": {
    "scrolled": false
   },
   "outputs": [
    {
     "name": "stdout",
     "output_type": "stream",
     "text": [
      "Probability: [[0.06365901 0.93634099]\n",
      " [0.92601003 0.07398997]\n",
      " [0.15339036 0.84660964]\n",
      " ...\n",
      " [0.9550666  0.0449334 ]\n",
      " [0.62970589 0.37029411]\n",
      " [0.52170176 0.47829824]]\n",
      "prediction: [1. 0. 1. ... 0. 0. 0.]\n"
     ]
    }
   ],
   "source": [
    "#making predictions\n",
    "sample = pd.read_csv('diabetes_binary_health_indicators_BRFSS2015.csv')\n",
    "\n",
    "y_sample = sample.iloc[:,0]\n",
    "X_sample = sample.iloc[:,1:-1]\n",
    "\n",
    "predictionProbability = model.predict_proba(X_sample)\n",
    "prediction = model.predict(X_sample)\n",
    "#shows probability of being zlass '0' and class '1'\n",
    "print('Probability:', predictionProbability)\n",
    "print('prediction:', prediction)\n"
   ]
  },
  {
   "cell_type": "code",
   "execution_count": 73,
   "id": "44217942",
   "metadata": {
    "scrolled": true
   },
   "outputs": [
    {
     "name": "stdout",
     "output_type": "stream",
     "text": [
      "[[158168  60166]\n",
      " [  8249  27097]]\n"
     ]
    }
   ],
   "source": [
    "#confusion matrix\n",
    "from sklearn.metrics import confusion_matrix\n",
    "confusion_matrix = confusion_matrix(y_sample, prediction)\n",
    "print(confusion_matrix)"
   ]
  },
  {
   "cell_type": "markdown",
   "id": "78043927",
   "metadata": {},
   "source": [
    "Confusion Matrix Interpretations\n",
    "\n",
    "- True positive is 158168.\n",
    "- True negative is 27097.\n",
    "- False positive is 60166.\n",
    "- False negative is 8249."
   ]
  },
  {
   "cell_type": "code",
   "execution_count": 74,
   "id": "9ea117ab",
   "metadata": {},
   "outputs": [
    {
     "name": "stdout",
     "output_type": "stream",
     "text": [
      "              precision    recall  f1-score   support\n",
      "\n",
      "         0.0       0.95      0.72      0.82    218334\n",
      "         1.0       0.31      0.77      0.44     35346\n",
      "\n",
      "    accuracy                           0.73    253680\n",
      "   macro avg       0.63      0.75      0.63    253680\n",
      "weighted avg       0.86      0.73      0.77    253680\n",
      "\n"
     ]
    }
   ],
   "source": [
    "from sklearn.metrics import classification_report\n",
    "print(classification_report(y_sample, prediction))"
   ]
  },
  {
   "cell_type": "code",
   "execution_count": 75,
   "id": "6ed8f73c",
   "metadata": {
    "scrolled": true
   },
   "outputs": [
    {
     "data": {
      "image/png": "[encoded data removed]",
      "text/plain": [
       "<Figure size 432x288 with 1 Axes>"
      ]
     },
     "metadata": {
      "needs_background": "light"
     },
     "output_type": "display_data"
    }
   ],
   "source": [
    "#ROC Curve\n",
    "from sklearn.metrics import roc_auc_score\n",
    "from sklearn.metrics import roc_curve\n",
    "logit_roc_auc = roc_auc_score(y_sample, model.predict(X_sample))\n",
    "fpr, tpr, thresholds = roc_curve(y_sample, model.predict_proba(X_sample)[:,1])\n",
    "plt.figure()\n",
    "plt.plot(fpr, tpr, label='Logistic Regression (area = %0.2f)' % logit_roc_auc)\n",
    "plt.plot([0, 1], [0, 1],'r--')\n",
    "plt.xlim([0.0, 1.0])\n",
    "plt.ylim([0.0, 1.05])\n",
    "plt.xlabel('False Positive Rate')\n",
    "plt.ylabel('True Positive Rate')\n",
    "plt.title('Receiver operating characteristic')\n",
    "plt.legend(loc=\"lower right\")\n",
    "plt.savefig('Log_ROC')\n",
    "plt.show()"
   ]
  },
  {
   "cell_type": "code",
   "execution_count": null,
   "id": "0ac0a81e",
   "metadata": {},
   "outputs": [],
   "source": []
  },
  {
   "cell_type": "code",
   "execution_count": 76,
   "id": "82064081",
   "metadata": {
    "scrolled": true
   },
   "outputs": [
    {
     "data": {
      "text/plain": [
       "\"\\n# Another way to apply Logistic Regression model to data \\nimport statsmodels.api as sm\\nfrom statsmodels.formula.api import logit\\n\\nlogit_model=sm.Logit(y,X)\\nresult=logit_model.fit()\\nprint(result.summary2())\\n\\n# Using Anova to check for significance\\nmodel1 = logit('Diabetes_binary ~ C(HighBP) + C(HighChol) + C(CholCheck) + C(BMI) + C(Smoker) + C(Stroke) + C(HeartDiseaseorAttack) + C(PhysActivity) + C(Fruits) + C(Veggies) + C(HvyAlcoholConsump) + C(AnyHealthcare) + C(NoDocbcCost) + C(GenHlth) + C(MentHlth) + C(PhysHlth) + C(DiffWalk) + C(Sex) + C(Age) + C(Education) + C(Income)', data=data).fit()\\n\\nprint(model1.params)\\nanova_table = sm.stats.anova_lm(model1, typ=2)\\nanova_table\\n\""
      ]
     },
     "execution_count": 76,
     "metadata": {},
     "output_type": "execute_result"
    }
   ],
   "source": [
    "'''\n",
    "# Another way to apply Logistic Regression model to data \n",
    "import statsmodels.api as sm\n",
    "from statsmodels.formula.api import logit\n",
    "\n",
    "logit_model=sm.Logit(y,X)\n",
    "result=logit_model.fit()\n",
    "print(result.summary2())\n",
    "\n",
    "# Using Anova to check for significance\n",
    "model1 = logit('Diabetes_binary ~ C(HighBP) + C(HighChol) + C(CholCheck) + C(BMI) + C(Smoker) + C(Stroke) + C(HeartDiseaseorAttack) + C(PhysActivity) + C(Fruits) + C(Veggies) + C(HvyAlcoholConsump) + C(AnyHealthcare) + C(NoDocbcCost) + C(GenHlth) + C(MentHlth) + C(PhysHlth) + C(DiffWalk) + C(Sex) + C(Age) + C(Education) + C(Income)', data=data).fit()\n",
    "\n",
    "print(model1.params)\n",
    "anova_table = sm.stats.anova_lm(model1, typ=2)\n",
    "anova_table\n",
    "'''"
   ]
  }
 ],
 "metadata": {
  "kernelspec": {
   "display_name": "Python 3 (ipykernel)",
   "language": "python",
   "name": "python3"
  },
  "language_info": {
   "codemirror_mode": {
    "name": "ipython",
    "version": 3
   },
   "file_extension": ".py",
   "mimetype": "text/x-python",
   "name": "python",
   "nbconvert_exporter": "python",
   "pygments_lexer": "ipython3",
   "version": "3.9.7"
  }
 },
 "nbformat": 4,
 "nbformat_minor": 5
}
