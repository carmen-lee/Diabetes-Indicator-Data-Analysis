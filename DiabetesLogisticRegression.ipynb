{
 "cells": [
  {
   "cell_type": "code",
   "execution_count": 1,
   "id": "9aa2bd67",
   "metadata": {
    "scrolled": true
   },
   "outputs": [],
   "source": [
    "# sns.set_palette('colorblind')\n",
    "# sns.pairplot(data=data, height=3)"
   ]
  },
  {
   "cell_type": "code",
   "execution_count": 2,
   "id": "22d6b432",
   "metadata": {},
   "outputs": [],
   "source": [
    "#import libraries\n",
    "import matplotlib.pyplot as plt\n",
    "import seaborn as sns\n",
    "\n",
    "import pandas as pd\n",
    "import numpy as np\n",
    "\n",
    "from sklearn.linear_model import LogisticRegression\n",
    "from sklearn.metrics import classification_report, confusion_matrix\n",
    "\n",
    "# from sklearn.externals import joblib\n"
   ]
  },
  {
   "cell_type": "code",
   "execution_count": 3,
   "id": "ee775e31",
   "metadata": {},
   "outputs": [
    {
     "data": {
      "text/plain": [
       "(253680, 22)"
      ]
     },
     "execution_count": 3,
     "metadata": {},
     "output_type": "execute_result"
    }
   ],
   "source": [
    "data = pd.read_csv('diabetes_binary_health_indicators_BRFSS2015.csv')\n",
    "data.shape"
   ]
  },
  {
   "cell_type": "code",
   "execution_count": 4,
   "id": "f6dded94",
   "metadata": {
    "scrolled": true
   },
   "outputs": [
    {
     "name": "stdout",
     "output_type": "stream",
     "text": [
      "<class 'pandas.core.frame.DataFrame'>\n",
      "RangeIndex: 253680 entries, 0 to 253679\n",
      "Data columns (total 22 columns):\n",
      " #   Column                Non-Null Count   Dtype  \n",
      "---  ------                --------------   -----  \n",
      " 0   Diabetes_binary       253680 non-null  float64\n",
      " 1   HighBP                253680 non-null  float64\n",
      " 2   HighChol              253680 non-null  float64\n",
      " 3   CholCheck             253680 non-null  float64\n",
      " 4   BMI                   253680 non-null  float64\n",
      " 5   Smoker                253680 non-null  float64\n",
      " 6   Stroke                253680 non-null  float64\n",
      " 7   HeartDiseaseorAttack  253680 non-null  float64\n",
      " 8   PhysActivity          253680 non-null  float64\n",
      " 9   Fruits                253680 non-null  float64\n",
      " 10  Veggies               253680 non-null  float64\n",
      " 11  HvyAlcoholConsump     253680 non-null  float64\n",
      " 12  AnyHealthcare         253680 non-null  float64\n",
      " 13  NoDocbcCost           253680 non-null  float64\n",
      " 14  GenHlth               253680 non-null  float64\n",
      " 15  MentHlth              253680 non-null  float64\n",
      " 16  PhysHlth              253680 non-null  float64\n",
      " 17  DiffWalk              253680 non-null  float64\n",
      " 18  Sex                   253680 non-null  float64\n",
      " 19  Age                   253680 non-null  float64\n",
      " 20  Education             253680 non-null  float64\n",
      " 21  Income                253680 non-null  float64\n",
      "dtypes: float64(22)\n",
      "memory usage: 42.6 MB\n"
     ]
    }
   ],
   "source": [
    "#check for completeness of data\n",
    "data.info()"
   ]
  },
  {
   "cell_type": "code",
   "execution_count": 5,
   "id": "d7f2ad1e",
   "metadata": {},
   "outputs": [
    {
     "name": "stdout",
     "output_type": "stream",
     "text": [
      "                      Diabetes_binary    HighBP  HighChol  CholCheck  \\\n",
      "Diabetes_binary              1.000000  0.263129  0.200276   0.064761   \n",
      "HighBP                       0.263129  1.000000  0.298199   0.098508   \n",
      "HighChol                     0.200276  0.298199  1.000000   0.085642   \n",
      "CholCheck                    0.064761  0.098508  0.085642   1.000000   \n",
      "BMI                          0.216843  0.213748  0.106722   0.034495   \n",
      "Smoker                       0.060789  0.096991  0.091299  -0.009929   \n",
      "Stroke                       0.105816  0.129575  0.092620   0.024158   \n",
      "HeartDiseaseorAttack         0.177282  0.209361  0.180765   0.044206   \n",
      "PhysActivity                -0.118133 -0.125267 -0.078046   0.004190   \n",
      "Fruits                      -0.040779 -0.040555 -0.040859   0.023849   \n",
      "Veggies                     -0.056584 -0.061266 -0.039874   0.006121   \n",
      "HvyAlcoholConsump           -0.057056 -0.003972 -0.011543  -0.023730   \n",
      "AnyHealthcare                0.016255  0.038425  0.042230   0.117626   \n",
      "NoDocbcCost                  0.031433  0.017358  0.013310  -0.058255   \n",
      "GenHlth                      0.293569  0.300530  0.208426   0.046589   \n",
      "MentHlth                     0.069315  0.056456  0.062069  -0.008366   \n",
      "PhysHlth                     0.171337  0.161212  0.121751   0.031775   \n",
      "DiffWalk                     0.218344  0.223618  0.144672   0.040585   \n",
      "Sex                          0.031430  0.052207  0.031205  -0.022115   \n",
      "Age                          0.177442  0.344452  0.272318   0.090321   \n",
      "Education                   -0.124456 -0.141358 -0.070802   0.001510   \n",
      "Income                      -0.163919 -0.171235 -0.085459   0.014259   \n",
      "\n",
      "                           BMI    Smoker    Stroke  HeartDiseaseorAttack  \\\n",
      "Diabetes_binary       0.216843  0.060789  0.105816              0.177282   \n",
      "HighBP                0.213748  0.096991  0.129575              0.209361   \n",
      "HighChol              0.106722  0.091299  0.092620              0.180765   \n",
      "CholCheck             0.034495 -0.009929  0.024158              0.044206   \n",
      "BMI                   1.000000  0.013804  0.020153              0.052904   \n",
      "Smoker                0.013804  1.000000  0.061173              0.114441   \n",
      "Stroke                0.020153  0.061173  1.000000              0.203002   \n",
      "HeartDiseaseorAttack  0.052904  0.114441  0.203002              1.000000   \n",
      "PhysActivity         -0.147294 -0.087401 -0.069151             -0.087299   \n",
      "Fruits               -0.087518 -0.077666 -0.013389             -0.019790   \n",
      "Veggies              -0.062275 -0.030678 -0.041124             -0.039167   \n",
      "HvyAlcoholConsump    -0.048736  0.101619 -0.016950             -0.028991   \n",
      "AnyHealthcare        -0.018471 -0.023251  0.008776              0.018734   \n",
      "NoDocbcCost           0.058206  0.048946  0.034804              0.031000   \n",
      "GenHlth               0.239185  0.163143  0.177942              0.258383   \n",
      "MentHlth              0.085310  0.092196  0.070172              0.064621   \n",
      "PhysHlth              0.121141  0.116460  0.148944              0.181698   \n",
      "DiffWalk              0.197078  0.122463  0.176567              0.212709   \n",
      "Sex                   0.042950  0.093662  0.002978              0.086096   \n",
      "Age                  -0.036618  0.120641  0.126974              0.221618   \n",
      "Education            -0.103932 -0.161955 -0.076009             -0.099600   \n",
      "Income               -0.100069 -0.123937 -0.128599             -0.141011   \n",
      "\n",
      "                      PhysActivity    Fruits  ...  AnyHealthcare  NoDocbcCost  \\\n",
      "Diabetes_binary          -0.118133 -0.040779  ...       0.016255     0.031433   \n",
      "HighBP                   -0.125267 -0.040555  ...       0.038425     0.017358   \n",
      "HighChol                 -0.078046 -0.040859  ...       0.042230     0.013310   \n",
      "CholCheck                 0.004190  0.023849  ...       0.117626    -0.058255   \n",
      "BMI                      -0.147294 -0.087518  ...      -0.018471     0.058206   \n",
      "Smoker                   -0.087401 -0.077666  ...      -0.023251     0.048946   \n",
      "Stroke                   -0.069151 -0.013389  ...       0.008776     0.034804   \n",
      "HeartDiseaseorAttack     -0.087299 -0.019790  ...       0.018734     0.031000   \n",
      "PhysActivity              1.000000  0.142756  ...       0.035505    -0.061638   \n",
      "Fruits                    0.142756  1.000000  ...       0.031544    -0.044243   \n",
      "Veggies                   0.153150  0.254342  ...       0.029584    -0.032232   \n",
      "HvyAlcoholConsump         0.012392 -0.035288  ...      -0.010488     0.004684   \n",
      "AnyHealthcare             0.035505  0.031544  ...       1.000000    -0.232532   \n",
      "NoDocbcCost              -0.061638 -0.044243  ...      -0.232532     1.000000   \n",
      "GenHlth                  -0.266186 -0.103854  ...      -0.040817     0.166397   \n",
      "MentHlth                 -0.125587 -0.068217  ...      -0.052707     0.192107   \n",
      "PhysHlth                 -0.219230 -0.044633  ...      -0.008276     0.148998   \n",
      "DiffWalk                 -0.253174 -0.048352  ...       0.007074     0.118447   \n",
      "Sex                       0.032482 -0.091175  ...      -0.019405    -0.044931   \n",
      "Age                      -0.092511  0.064547  ...       0.138046    -0.119777   \n",
      "Education                 0.199658  0.110187  ...       0.122514    -0.100701   \n",
      "Income                    0.198539  0.079929  ...       0.157999    -0.203182   \n",
      "\n",
      "                       GenHlth  MentHlth  PhysHlth  DiffWalk       Sex  \\\n",
      "Diabetes_binary       0.293569  0.069315  0.171337  0.218344  0.031430   \n",
      "HighBP                0.300530  0.056456  0.161212  0.223618  0.052207   \n",
      "HighChol              0.208426  0.062069  0.121751  0.144672  0.031205   \n",
      "CholCheck             0.046589 -0.008366  0.031775  0.040585 -0.022115   \n",
      "BMI                   0.239185  0.085310  0.121141  0.197078  0.042950   \n",
      "Smoker                0.163143  0.092196  0.116460  0.122463  0.093662   \n",
      "Stroke                0.177942  0.070172  0.148944  0.176567  0.002978   \n",
      "HeartDiseaseorAttack  0.258383  0.064621  0.181698  0.212709  0.086096   \n",
      "PhysActivity         -0.266186 -0.125587 -0.219230 -0.253174  0.032482   \n",
      "Fruits               -0.103854 -0.068217 -0.044633 -0.048352 -0.091175   \n",
      "Veggies              -0.123066 -0.058884 -0.064290 -0.080506 -0.064765   \n",
      "HvyAlcoholConsump    -0.036724  0.024716 -0.026415 -0.037668  0.005740   \n",
      "AnyHealthcare        -0.040817 -0.052707 -0.008276  0.007074 -0.019405   \n",
      "NoDocbcCost           0.166397  0.192107  0.148998  0.118447 -0.044931   \n",
      "GenHlth               1.000000  0.301674  0.524364  0.456920 -0.006091   \n",
      "MentHlth              0.301674  1.000000  0.353619  0.233688 -0.080705   \n",
      "PhysHlth              0.524364  0.353619  1.000000  0.478417 -0.043137   \n",
      "DiffWalk              0.456920  0.233688  0.478417  1.000000 -0.070299   \n",
      "Sex                  -0.006091 -0.080705 -0.043137 -0.070299  1.000000   \n",
      "Age                   0.152450 -0.092068  0.099130  0.204450 -0.027340   \n",
      "Education            -0.284912 -0.101830 -0.155093 -0.192642  0.019480   \n",
      "Income               -0.370014 -0.209806 -0.266799 -0.320124  0.127141   \n",
      "\n",
      "                           Age  Education    Income  \n",
      "Diabetes_binary       0.177442  -0.124456 -0.163919  \n",
      "HighBP                0.344452  -0.141358 -0.171235  \n",
      "HighChol              0.272318  -0.070802 -0.085459  \n",
      "CholCheck             0.090321   0.001510  0.014259  \n",
      "BMI                  -0.036618  -0.103932 -0.100069  \n",
      "Smoker                0.120641  -0.161955 -0.123937  \n",
      "Stroke                0.126974  -0.076009 -0.128599  \n",
      "HeartDiseaseorAttack  0.221618  -0.099600 -0.141011  \n",
      "PhysActivity         -0.092511   0.199658  0.198539  \n",
      "Fruits                0.064547   0.110187  0.079929  \n",
      "Veggies              -0.009771   0.154329  0.151087  \n",
      "HvyAlcoholConsump    -0.034578   0.023997  0.053619  \n",
      "AnyHealthcare         0.138046   0.122514  0.157999  \n",
      "NoDocbcCost          -0.119777  -0.100701 -0.203182  \n",
      "GenHlth               0.152450  -0.284912 -0.370014  \n",
      "MentHlth             -0.092068  -0.101830 -0.209806  \n",
      "PhysHlth              0.099130  -0.155093 -0.266799  \n",
      "DiffWalk              0.204450  -0.192642 -0.320124  \n",
      "Sex                  -0.027340   0.019480  0.127141  \n",
      "Age                   1.000000  -0.101901 -0.127775  \n",
      "Education            -0.101901   1.000000  0.449106  \n",
      "Income               -0.127775   0.449106  1.000000  \n",
      "\n",
      "[22 rows x 22 columns]\n"
     ]
    },
    {
     "data": {
      "text/plain": [
       "<AxesSubplot:>"
      ]
     },
     "execution_count": 5,
     "metadata": {},
     "output_type": "execute_result"
    },
    {
     "data": {
      "image/png": "[encoded data removed]",
      "text/plain": [
       "<Figure size 432x288 with 2 Axes>"
      ]
     },
     "metadata": {
      "needs_background": "light"
     },
     "output_type": "display_data"
    }
   ],
   "source": [
    "#correlation of every pair of features\n",
    "#brighter colors indicate more correlation\n",
    "corr = data.corr()\n",
    "print(corr)\n",
    "sns.heatmap(corr, \n",
    "         xticklabels=corr.columns, \n",
    "         yticklabels=corr.columns)"
   ]
  },
  {
   "cell_type": "markdown",
   "id": "934fd190",
   "metadata": {},
   "source": [
    "Initial Data Visualization Interpretations from Heatmap\n",
    "\n",
    "1. HighBP, HighChol, BMI, HeartDiseaseorAttack, GenHlth, and Age all have significant correlation with the outcome variable."
   ]
  },
  {
   "cell_type": "code",
   "execution_count": 9,
   "id": "3f1908c6",
   "metadata": {},
   "outputs": [],
   "source": [
    "#Splitting Features and Label\n",
    "y = data.iloc[:,0]\n",
    "X = data.iloc[:,1:-1]"
   ]
  },
  {
   "cell_type": "code",
   "execution_count": 11,
   "id": "e5f57e60",
   "metadata": {},
   "outputs": [],
   "source": [
    "#scale data? binary data so we don't need to scale i think\n",
    "\n",
    "#split train and test data\n",
    "from sklearn.model_selection import train_test_split\n",
    "X_train, X_test, y_train, y_test = train_test_split(X, y, test_size = 0.05, random_state = 99)\n",
    "\n"
   ]
  },
  {
   "cell_type": "code",
   "execution_count": 12,
   "id": "7cb0efe4",
   "metadata": {
    "scrolled": true
   },
   "outputs": [
    {
     "name": "stdout",
     "output_type": "stream",
     "text": [
      "accuracy =  86.19520655944497 %\n"
     ]
    }
   ],
   "source": [
    "#training and fitting Logistic Regression to model\n",
    "model = LogisticRegression(solver='liblinear', random_state=0)\n",
    "model.fit(X_train,y_train)\n",
    "\n",
    "#evaluating model\n",
    "accuracy = model.score(X_test, y_test)\n",
    "print(\"accuracy = \", accuracy * 100, \"%\")\n"
   ]
  },
  {
   "cell_type": "code",
   "execution_count": 13,
   "id": "74f445c3",
   "metadata": {
    "scrolled": true
   },
   "outputs": [
    {
     "name": "stdout",
     "output_type": "stream",
     "text": [
      "[-7.81134945]\n",
      "[[ 0.76562293  0.56892039  1.14580062  0.06034257 -0.00737816  0.14679062\n",
      "   0.22248805 -0.05562699 -0.05303859 -0.04958123 -0.78584189  0.02367027\n",
      "   0.03776622  0.54459898 -0.00287299 -0.00714963  0.16053828  0.22772974\n",
      "   0.12574821 -0.06683534]]\n"
     ]
    }
   ],
   "source": [
    "print(model.intercept_)\n",
    "print(model.coef_)"
   ]
  },
  {
   "cell_type": "code",
   "execution_count": 23,
   "id": "129ced5f",
   "metadata": {},
   "outputs": [
    {
     "data": {
      "text/plain": [
       "Text(0.5, 0, 'Importance')"
      ]
     },
     "execution_count": 23,
     "metadata": {},
     "output_type": "execute_result"
    },
    {
     "data": {
      "image/png": "[encoded data removed]",
      "text/plain": [
       "<Figure size 792x432 with 1 Axes>"
      ]
     },
     "metadata": {
      "needs_background": "light"
     },
     "output_type": "display_data"
    }
   ],
   "source": [
    "coeff = list(model.coef_[0])\n",
    "labels = list(X_train.columns)\n",
    "features = pd.DataFrame()\n",
    "features['Features'] = labels\n",
    "features['importance'] = coeff\n",
    "features.sort_values(by=['importance'], ascending=True, inplace=True)\n",
    "features['positive'] = features['importance'] > 0\n",
    "features.set_index('Features', inplace=True)\n",
    "features.importance.plot(kind='barh', figsize=(11, 6),color = features.positive.map({True: 'blue', False: 'red'}))\n",
    "plt.xlabel('Importance')"
   ]
  },
  {
   "cell_type": "markdown",
   "id": "744179fb",
   "metadata": {},
   "source": [
    "Interpretations on the Visualization of the Weights :\n",
    "\n",
    "1. CholCheck, HighBP, GenHlth, and HighChol have significant influence on the model.\n",
    "2. HvyAlcoholConsumption has negative influence to the model, meaning that a higher HvyAlcoholConsumption correlates to a person not having diabetes\n",
    "3. Initial data interpretations, like BMI and Age show that they have a high correlation to the outcome variable, but the model relies more on CholCheck, HighBP, GenHlth, and HighChol instead. (? - data needs to be normalized for this to be an accurate statement) "
   ]
  },
  {
   "cell_type": "code",
   "execution_count": 16,
   "id": "d61e7bc8",
   "metadata": {
    "scrolled": false
   },
   "outputs": [
    {
     "name": "stdout",
     "output_type": "stream",
     "text": [
      "Probability: [[0.92323838 0.07676162]\n",
      " [0.66798027 0.33201973]\n",
      " [0.93869112 0.06130888]\n",
      " ...\n",
      " [0.97580289 0.02419711]\n",
      " [0.96929514 0.03070486]\n",
      " [0.52017682 0.47982318]]\n",
      "prediction: [0. 0. 0. ... 0. 0. 0.]\n"
     ]
    }
   ],
   "source": [
    "#making predictions\n",
    "predictionProbability = model.predict_proba(X_test)\n",
    "prediction = model.predict(X_test)\n",
    "#shows probability of being zlass '0' and class '1'\n",
    "print('Probability:', predictionProbability)\n",
    "print('prediction:', prediction)\n"
   ]
  },
  {
   "cell_type": "code",
   "execution_count": 17,
   "id": "44217942",
   "metadata": {
    "scrolled": true
   },
   "outputs": [
    {
     "name": "stdout",
     "output_type": "stream",
     "text": [
      "[[10653   213]\n",
      " [ 1538   280]]\n"
     ]
    }
   ],
   "source": [
    "#confusion matrix\n",
    "from sklearn.metrics import confusion_matrix\n",
    "confusion_matrix = confusion_matrix(y_test, prediction)\n",
    "print(confusion_matrix)"
   ]
  },
  {
   "cell_type": "markdown",
   "id": "78043927",
   "metadata": {},
   "source": [
    "Confusion Matrix Interpretations\n",
    "\n",
    "- True positive is 158168.\n",
    "- True negative is 27097.\n",
    "- False positive is 60166.\n",
    "- False negative is 8249."
   ]
  },
  {
   "cell_type": "code",
   "execution_count": 18,
   "id": "9ea117ab",
   "metadata": {},
   "outputs": [
    {
     "name": "stdout",
     "output_type": "stream",
     "text": [
      "              precision    recall  f1-score   support\n",
      "\n",
      "         0.0       0.87      0.98      0.92     10866\n",
      "         1.0       0.57      0.15      0.24      1818\n",
      "\n",
      "    accuracy                           0.86     12684\n",
      "   macro avg       0.72      0.57      0.58     12684\n",
      "weighted avg       0.83      0.86      0.83     12684\n",
      "\n"
     ]
    }
   ],
   "source": [
    "from sklearn.metrics import classification_report\n",
    "print(classification_report(y_test, prediction))"
   ]
  },
  {
   "cell_type": "code",
   "execution_count": 19,
   "id": "6ed8f73c",
   "metadata": {
    "scrolled": true
   },
   "outputs": [
    {
     "data": {
      "image/png": "[encoded data removed]",
      "text/plain": [
       "<Figure size 432x288 with 1 Axes>"
      ]
     },
     "metadata": {
      "needs_background": "light"
     },
     "output_type": "display_data"
    }
   ],
   "source": [
    "#ROC Curve\n",
    "from sklearn.metrics import roc_auc_score\n",
    "from sklearn.metrics import roc_curve\n",
    "logit_roc_auc = roc_auc_score(y_test, model.predict(X_test))\n",
    "fpr, tpr, thresholds = roc_curve(y_test, model.predict_proba(X_test)[:,1])\n",
    "plt.figure()\n",
    "plt.plot(fpr, tpr, label='Logistic Regression (area = %0.2f)' % logit_roc_auc)\n",
    "plt.plot([0, 1], [0, 1],'r--')\n",
    "plt.xlim([0.0, 1.0])\n",
    "plt.ylim([0.0, 1.05])\n",
    "plt.xlabel('False Positive Rate')\n",
    "plt.ylabel('True Positive Rate')\n",
    "plt.title('Receiver operating characteristic')\n",
    "plt.legend(loc=\"lower right\")\n",
    "plt.savefig('Log_ROC')\n",
    "plt.show()"
   ]
  },
  {
   "cell_type": "code",
   "execution_count": null,
   "id": "0ac0a81e",
   "metadata": {},
   "outputs": [],
   "source": []
  },
  {
   "cell_type": "code",
   "execution_count": 30,
   "id": "82064081",
   "metadata": {
    "scrolled": true
   },
   "outputs": [
    {
     "data": {
      "text/plain": [
       "\"\\n# Another way to apply Logistic Regression model to data \\nimport statsmodels.api as sm\\nfrom statsmodels.formula.api import logit\\n\\nlogit_model=sm.Logit(y,X)\\nresult=logit_model.fit()\\nprint(result.summary2())\\n\\n# Using Anova to check for significance\\nmodel1 = logit('Diabetes_binary ~ C(HighBP) + C(HighChol) + C(CholCheck) + C(BMI) + C(Smoker) + C(Stroke) + C(HeartDiseaseorAttack) + C(PhysActivity) + C(Fruits) + C(Veggies) + C(HvyAlcoholConsump) + C(AnyHealthcare) + C(NoDocbcCost) + C(GenHlth) + C(MentHlth) + C(PhysHlth) + C(DiffWalk) + C(Sex) + C(Age) + C(Education) + C(Income)', data=data).fit()\\n\\nprint(model1.params)\\nanova_table = sm.stats.anova_lm(model1, typ=2)\\nanova_table\\n\""
      ]
     },
     "execution_count": 30,
     "metadata": {},
     "output_type": "execute_result"
    }
   ],
   "source": [
    "'''\n",
    "# Another way to apply Logistic Regression model to data \n",
    "import statsmodels.api as sm\n",
    "from statsmodels.formula.api import logit\n",
    "\n",
    "logit_model=sm.Logit(y,X)\n",
    "result=logit_model.fit()\n",
    "print(result.summary2())\n",
    "\n",
    "# Using Anova to check for significance\n",
    "model1 = logit('Diabetes_binary ~ C(HighBP) + C(HighChol) + C(CholCheck) + C(BMI) + C(Smoker) + C(Stroke) + C(HeartDiseaseorAttack) + C(PhysActivity) + C(Fruits) + C(Veggies) + C(HvyAlcoholConsump) + C(AnyHealthcare) + C(NoDocbcCost) + C(GenHlth) + C(MentHlth) + C(PhysHlth) + C(DiffWalk) + C(Sex) + C(Age) + C(Education) + C(Income)', data=data).fit()\n",
    "\n",
    "print(model1.params)\n",
    "anova_table = sm.stats.anova_lm(model1, typ=2)\n",
    "anova_table\n",
    "'''"
   ]
  }
 ],
 "metadata": {
  "kernelspec": {
   "display_name": "Python 3 (ipykernel)",
   "language": "python",
   "name": "python3"
  },
  "language_info": {
   "codemirror_mode": {
    "name": "ipython",
    "version": 3
   },
   "file_extension": ".py",
   "mimetype": "text/x-python",
   "name": "python",
   "nbconvert_exporter": "python",
   "pygments_lexer": "ipython3",
   "version": "3.10.2"
  }
 },
 "nbformat": 4,
 "nbformat_minor": 5
}
