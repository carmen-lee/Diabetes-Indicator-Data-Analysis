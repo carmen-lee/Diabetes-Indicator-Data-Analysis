{
 "cells": [
  {
   "cell_type": "code",
   "execution_count": 6,
   "metadata": {},
   "outputs": [],
   "source": [
    "# Importing Libs\n",
    "import numpy as np\n",
    "import matplotlib.pyplot as plt\n",
    "import pandas as pd\n",
    "from sklearn import neighbors\n",
    "# Styling used for VSCode\n",
    "# from matplotlib import style\n",
    "# style.use('dark_background')\n",
    "\n",
    "from sklearn.neighbors import KNeighborsClassifier\n",
    "\n",
    "# Importing Data\n",
    "data = pd.read_csv('diabetes_binary_health_indicators_BRFSS2015.csv')"
   ]
  },
  {
   "cell_type": "code",
   "execution_count": 7,
   "metadata": {},
   "outputs": [],
   "source": [
    "# Preprocessing\n",
    "X = data.drop('Diabetes_binary', axis=1)\n",
    "y = data.iloc[:,0]\n"
   ]
  },
  {
   "cell_type": "code",
   "execution_count": 8,
   "metadata": {},
   "outputs": [],
   "source": [
    "# Split train and test : 5%\n",
    "from sklearn.model_selection import train_test_split\n",
    "X_train, X_test, y_train, y_test = train_test_split(X, y, test_size=0.05, random_state=42)"
   ]
  },
  {
   "cell_type": "code",
   "execution_count": 9,
   "metadata": {},
   "outputs": [],
   "source": [
    "\n",
    "error = []\n",
    "\n",
    "# Calculating error for K values between 1 and 20\n",
    "for i in range(1, 21):\n",
    "    knn = KNeighborsClassifier(n_neighbors=i)\n",
    "    knn.fit(X_train, y_train)\n",
    "    pred_i = knn.predict(X_test)\n",
    "    error.append(np.mean(pred_i != y_test))\n"
   ]
  },
  {
   "cell_type": "code",
   "execution_count": 10,
   "metadata": {},
   "outputs": [
    {
     "name": "stdout",
     "output_type": "stream",
     "text": [
      "If K = 1 , then accuracy is 80%\n",
      "If K = 2 , then accuracy is 85%\n",
      "If K = 3 , then accuracy is 83%\n",
      "If K = 4 , then accuracy is 85%\n",
      "If K = 5 , then accuracy is 84%\n",
      "If K = 6 , then accuracy is 85%\n",
      "If K = 7 , then accuracy is 85%\n",
      "If K = 8 , then accuracy is 85%\n",
      "If K = 9 , then accuracy is 85%\n",
      "If K = 10 , then accuracy is 86%\n",
      "If K = 11 , then accuracy is 85%\n",
      "If K = 12 , then accuracy is 85%\n",
      "If K = 13 , then accuracy is 85%\n",
      "If K = 14 , then accuracy is 86%\n",
      "If K = 15 , then accuracy is 86%\n",
      "If K = 16 , then accuracy is 86%\n",
      "If K = 17 , then accuracy is 86%\n",
      "If K = 18 , then accuracy is 86%\n",
      "If K = 19 , then accuracy is 86%\n",
      "If K = 20 , then accuracy is 86%\n"
     ]
    }
   ],
   "source": [
    "avg = (1-np.array(error))*100\n",
    "for i in range(0,20):\n",
    "    print(\"If K = %d , then accuracy is %d%%\" %(i+1,avg[i]))"
   ]
  },
  {
   "cell_type": "code",
   "execution_count": 17,
   "metadata": {},
   "outputs": [
    {
     "name": "stdout",
     "output_type": "stream",
     "text": [
      "[0.19709870703248186, 0.14514348785871964, 0.1620151371807001, 0.14403973509933773, 0.15160832544938505, 0.14198990854619994, 0.14711447492904448, 0.1403342794071271, 0.14506464837590666, 0.1393093661305582, 0.1423052664774519, 0.14041311888994007, 0.14183222958057395, 0.13859981078524125, 0.13875748975086724, 0.13836329233680228, 0.1393093661305582, 0.13875748975086724, 0.13836329233680228, 0.13891516871649323]\n"
     ]
    },
    {
     "data": {
      "image/png": "[encoded data removed]",
      "text/plain": [
       "<Figure size 864x432 with 1 Axes>"
      ]
     },
     "metadata": {
      "needs_background": "light"
     },
     "output_type": "display_data"
    }
   ],
   "source": [
    "plt.figure(figsize=(12, 6))\n",
    "plt.plot(range(1, 21), error, color='red', marker='o',\n",
    "         markerfacecolor='blue', markersize=12)\n",
    "plt.title('Error Rate K Value')\n",
    "plt.xlabel('K Value')\n",
    "plt.ylabel('Mean Error')\n",
    "print(error)"
   ]
  },
  {
   "cell_type": "code",
   "execution_count": 12,
   "metadata": {},
   "outputs": [
    {
     "ename": "SyntaxError",
     "evalue": "invalid syntax (3878742859.py, line 2)",
     "output_type": "error",
     "traceback": [
      "\u001b[0;36m  File \u001b[0;32m\"/var/folders/xb/vhz5bjxd7wbg6jqh2txpp0vh0000gn/T/ipykernel_15358/3878742859.py\"\u001b[0;36m, line \u001b[0;32m2\u001b[0m\n\u001b[0;31m    classifier = KNeighborsClassifier(n_neighbors=)\u001b[0m\n\u001b[0m                                                  ^\u001b[0m\n\u001b[0;31mSyntaxError\u001b[0m\u001b[0;31m:\u001b[0m invalid syntax\n"
     ]
    }
   ],
   "source": [
    "#Training and Predictions with optimal parameter k=16\n",
    "classifier = KNeighborsClassifier(n_neighbors=)\n",
    "classifier.fit(X_train, y_train)"
   ]
  },
  {
   "cell_type": "code",
   "execution_count": null,
   "metadata": {},
   "outputs": [],
   "source": [
    "y_pred = classifier.predict(X_test)\n",
    "y_pred"
   ]
  },
  {
   "cell_type": "code",
   "execution_count": null,
   "metadata": {},
   "outputs": [],
   "source": [
    "# Evaluating the Algorithm k =16\n",
    "from sklearn.metrics import classification_report, confusion_matrix\n",
    "print(confusion_matrix(y_test, y_pred))\n",
    "print(classification_report(y_test, y_pred))"
   ]
  },
  {
   "cell_type": "code",
   "execution_count": null,
   "metadata": {},
   "outputs": [],
   "source": [
    "# decision surface for a binary classification dataset\n",
    "import numpy as np\n",
    "from sklearn.datasets import make_blobs\n",
    "from sklearn.linear_model import LogisticRegression\n",
    "from matplotlib.colors import ListedColormap\n",
    "from sklearn.decomposition import PCA\n",
    "\n",
    "# Create color maps\n",
    "cmap_light = ListedColormap(['#FFAAAA', '#AAFFAA'])\n",
    "cmap_bold = ListedColormap(['#FF0000', '#006400'])\n",
    "\n",
    "# generate dataset\n",
    "pca = PCA(n_components=2)\n",
    "pca.fit(X_train)\n",
    "PCAX = pca.transform(X_train)\n",
    "\n",
    "# # define bounds of the domain\n",
    "knn = neighbors.KNeighborsClassifier(n_neighbors=16)\n",
    "knn.fit(PCAX, y_train)\n",
    "\n",
    "x_min, x_max = PCAX[:, 0].min() - .1, PCAX[:, 0].max() + .1\n",
    "y_min, y_max = PCAX[:, 1].min() - .1, PCAX[:, 1].max() + .1\n",
    "xx, yy = np.meshgrid(np.linspace(x_min, x_max, 100),\n",
    "                        np.linspace(y_min, y_max, 100))\n",
    "Z = knn.predict(np.c_[xx.ravel(), yy.ravel()])\n",
    "\n",
    "Z = Z.reshape(xx.shape)\n",
    "plt.figure()\n",
    "plt.pcolormesh(xx, yy, Z, cmap=cmap_light)\n",
    "\n",
    "# Plot also the training points\n",
    "pca = PCA(n_components=2)\n",
    "pca.fit(X_test)\n",
    "PCAX = pca.transform(X_test)\n",
    "plt.scatter(PCAX[:, 0], PCAX[:, 1], c=y_test, cmap=cmap_bold, s=1)\n",
    "plt.xlabel('PCA Component 1')\n",
    "plt.ylabel('PCA Component 2')\n",
    "plt.title('KNN, k = 16')\n",
    "plt.colorbar()\n",
    "plt.axis('tight')\n"
   ]
  },
  {
   "cell_type": "code",
   "execution_count": null,
   "metadata": {},
   "outputs": [],
   "source": [
    "#ROC Curve\n",
    "from sklearn.metrics import roc_auc_score\n",
    "from sklearn.metrics import roc_curve\n",
    "logit_roc_auc = roc_auc_score(y_test, classifier.predict(X_test))\n",
    "fpr, tpr, thresholds = roc_curve(y_test, classifier.predict_proba(X_test)[:,1])\n",
    "plt.figure()\n",
    "plt.plot(fpr, tpr, label='KNN (area = %0.2f)' % logit_roc_auc)\n",
    "plt.plot([0, 1], [0, 1],'r--')\n",
    "plt.xlim([0.0, 1.0])\n",
    "plt.ylim([0.0, 1.05])\n",
    "plt.xlabel('False Positive Rate')\n",
    "plt.ylabel('True Positive Rate')\n",
    "plt.title('Receiver operating characteristic')\n",
    "plt.legend(loc=\"lower right\")\n",
    "plt.savefig('Log_ROC')\n",
    "plt.show()"
   ]
  }
 ],
 "metadata": {
  "interpreter": {
   "hash": "aee8b7b246df8f9039afb4144a1f6fd8d2ca17a180786b69acc140d282b71a49"
  },
  "kernelspec": {
   "display_name": "Python 3 (ipykernel)",
   "language": "python",
   "name": "python3"
  },
  "language_info": {
   "codemirror_mode": {
    "name": "ipython",
    "version": 3
   },
   "file_extension": ".py",
   "mimetype": "text/x-python",
   "name": "python",
   "nbconvert_exporter": "python",
   "pygments_lexer": "ipython3",
   "version": "3.9.7"
  }
 },
 "nbformat": 4,
 "nbformat_minor": 2
}
